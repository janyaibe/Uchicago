{
 "cells": [
  {
   "cell_type": "markdown",
   "id": "eabddfa3",
   "metadata": {},
   "source": [
    "# Adding Publication to BloodPac MDS\n",
    "#### By: Johnbright Anyaibe M.S.  Scientific Support Analyst"
   ]
  },
  {
   "cell_type": "code",
   "execution_count": 1,
   "id": "34f2fc70",
   "metadata": {},
   "outputs": [
    {
     "name": "stderr",
     "output_type": "stream",
     "text": [
      "/Users/johnbrightanyaaibe/opt/anaconda3/lib/python3.9/site-packages/scipy/__init__.py:146: UserWarning: A NumPy version >=1.16.5 and <1.23.0 is required for this version of SciPy (detected version 1.24.3\n",
      "  warnings.warn(f\"A NumPy version >={np_minversion} and <{np_maxversion}\"\n"
     ]
    }
   ],
   "source": [
    "api='https://data.bloodpac.org'\n",
    "cred = '/Users/johnbrightanyaaibe/Downloads/bpac-credentials.json'\n",
    "\n",
    "import pandas as pd\n",
    "import sys\n",
    "\n",
    "git_dir='/Users/johnbrightanyaaibe/Documents/GitHub'\n",
    "sdk_dir='/cgmeyer/gen3sdk-python'\n",
    "sys.path.insert(1, '{}{}'.format(git_dir,sdk_dir))\n",
    "from expansion.expansion import Gen3Expansion\n",
    "from migration.migration import Gen3Migration\n",
    "from gen3.submission import Gen3Submission\n",
    "from gen3.auth import Gen3Auth\n",
    "from gen3.index import Gen3Index\n"
   ]
  },
  {
   "cell_type": "code",
   "execution_count": 2,
   "id": "a2c611de",
   "metadata": {},
   "outputs": [],
   "source": [
    "auth = Gen3Auth(api, refresh_file=cred)\n",
    "sub = Gen3Submission(api, auth) # Initialize an instance this class, using your creds in 'auth'\n"
   ]
  },
  {
   "cell_type": "code",
   "execution_count": null,
   "id": "4b37732c",
   "metadata": {},
   "outputs": [],
   "source": []
  },
  {
   "cell_type": "code",
   "execution_count": 3,
   "id": "d80c6c64",
   "metadata": {
    "collapsed": true
   },
   "outputs": [
    {
     "name": "stdout",
     "output_type": "stream",
     "text": [
      "Getting all project_ids you have access to in the data commons.\n",
      "['bpa-AstraZeneca_P0001_T1', 'bpa-BCRF_007_Novartis', 'bpa-BCRF_007_UMich', 'bpa-Bio-Rad_P0001_T1', 'bpa-Biodesix_P0001_T1', 'bpa-BMS_P0001_T1', 'bpa-C2i_WGS_Plasma_Samples', 'bpa-CytoLumina_P0001_T1', 'bpa-EpicSciences_P001_T1', 'bpa-FoundationMedicine_ClinAV_T1', 'bpa-Freenome_cfDNA_P0001', 'bpa-GenomicHealth_P0001_T1', 'bpa-GRAIL-CCGA-substudy1-pre-analytical', 'bpa-Guardant_P0001_T1', 'bpa-Illumina_P0001_T1', 'bpa-ILMN_matched_cfDNA_buffycoat', 'bpa-Invitae_P0001_T1', 'bpa-Lexent_P0001_T1', 'bpa-MSKCC_P0001_T1', 'bpa-MSKCC_P0002_T1', 'bpa-MSKCC_P0003_T1', 'bpa-MSKCC_P0004_T1', 'bpa-NCI', 'bpa-Novartis_Contrived1_T1', 'bpa-Novartis_Contrived2_T1', 'bpa-PersonalGenome_Beta1', 'bpa-PersonalGenomeDx_P0001_T1', 'bpa-personalis', 'bpa-Pfizer_palbo', 'bpa-Provista_P0001_T1', 'bpa-Quest_Project01', 'bpa-S016718', 'bpa-SiO2_Collection_Tube_Study', 'bpa-STRECK_CellFree_Assays', 'bpa-Sysmex_P0001_T1', 'bpa-ThermoFisher_P0001_T1', 'bpa-UCLA_SABER', 'bpa-UMich_P0001_T1', 'bpa-UMich_P0002_T1', 'bpa-USC_OPT1_T1', 'Exhale-Fluxion', 'Exhale-Inivata_P0001', 'Exhale-Tempus', 'Exhale-ThermoFisher_1', 'Exhale-UAMS', 'Exhale-UCLA_EFIRM', 'JFDI-BioRad_Phase_1', 'JFDI-BioRad_Phase_2', 'JFDI-BMS_Phase_1', 'JFDI-BMS_Phase_2', 'JFDI-Eli_Lilly_Phase_1', 'JFDI-Eli_Lilly_Phase_2', 'JFDI-Illumina_Phase_1', 'JFDI-Illumina_Phase_2', 'JFDI-NVS', 'JFDI-NVS_Phase_2', 'JFDI-Pfizer', 'JFDI-Pfizer_Phase_2', 'JFDI-PGDx', 'JFDI-PGDx_Phase_2', 'JFDI-Sysmex_Phase_1', 'JFDI-Sysmex_Phase_2', 'JFDI-ThermoFisher', 'JFDI-ThermoFisher_Phase_2', 'JFDI-UAMS1', 'JFDI-UAMS1_Phase_2', 'JFDI-USC', 'JFDI-USC_Phase_2', 'open-BPDC000117', 'open-BPDC000118', 'open-BPDC000119', 'open-BPDC000120', 'open-BPDC000121', 'open-BPDC000122', 'open-BPDC000123', 'open-BPDC000124', 'open-BPDC000125', 'open-BPDC000126', 'open-BPDC000127', 'open-BPDC000128', 'open-BPDC000129', 'open-BPDC000130', 'open-BPDC000131', 'open-BPDC000132', 'open-FNIH_P0001', 'open-GLASS_GeLB', 'open-MTDE', 'open-open_JFDI_Phase_2', 'training-JFDI_Phase_2', 'training-PCV']\n"
     ]
    },
    {
     "data": {
      "text/plain": [
       "['bpa-AstraZeneca_P0001_T1',\n",
       " 'bpa-BCRF_007_Novartis',\n",
       " 'bpa-BCRF_007_UMich',\n",
       " 'bpa-Bio-Rad_P0001_T1',\n",
       " 'bpa-Biodesix_P0001_T1',\n",
       " 'bpa-BMS_P0001_T1',\n",
       " 'bpa-C2i_WGS_Plasma_Samples',\n",
       " 'bpa-CytoLumina_P0001_T1',\n",
       " 'bpa-EpicSciences_P001_T1',\n",
       " 'bpa-FoundationMedicine_ClinAV_T1',\n",
       " 'bpa-Freenome_cfDNA_P0001',\n",
       " 'bpa-GenomicHealth_P0001_T1',\n",
       " 'bpa-GRAIL-CCGA-substudy1-pre-analytical',\n",
       " 'bpa-Guardant_P0001_T1',\n",
       " 'bpa-Illumina_P0001_T1',\n",
       " 'bpa-ILMN_matched_cfDNA_buffycoat',\n",
       " 'bpa-Invitae_P0001_T1',\n",
       " 'bpa-Lexent_P0001_T1',\n",
       " 'bpa-MSKCC_P0001_T1',\n",
       " 'bpa-MSKCC_P0002_T1',\n",
       " 'bpa-MSKCC_P0003_T1',\n",
       " 'bpa-MSKCC_P0004_T1',\n",
       " 'bpa-NCI',\n",
       " 'bpa-Novartis_Contrived1_T1',\n",
       " 'bpa-Novartis_Contrived2_T1',\n",
       " 'bpa-PersonalGenome_Beta1',\n",
       " 'bpa-PersonalGenomeDx_P0001_T1',\n",
       " 'bpa-personalis',\n",
       " 'bpa-Pfizer_palbo',\n",
       " 'bpa-Provista_P0001_T1',\n",
       " 'bpa-Quest_Project01',\n",
       " 'bpa-S016718',\n",
       " 'bpa-SiO2_Collection_Tube_Study',\n",
       " 'bpa-STRECK_CellFree_Assays',\n",
       " 'bpa-Sysmex_P0001_T1',\n",
       " 'bpa-ThermoFisher_P0001_T1',\n",
       " 'bpa-UCLA_SABER',\n",
       " 'bpa-UMich_P0001_T1',\n",
       " 'bpa-UMich_P0002_T1',\n",
       " 'bpa-USC_OPT1_T1',\n",
       " 'Exhale-Fluxion',\n",
       " 'Exhale-Inivata_P0001',\n",
       " 'Exhale-Tempus',\n",
       " 'Exhale-ThermoFisher_1',\n",
       " 'Exhale-UAMS',\n",
       " 'Exhale-UCLA_EFIRM',\n",
       " 'JFDI-BioRad_Phase_1',\n",
       " 'JFDI-BioRad_Phase_2',\n",
       " 'JFDI-BMS_Phase_1',\n",
       " 'JFDI-BMS_Phase_2',\n",
       " 'JFDI-Eli_Lilly_Phase_1',\n",
       " 'JFDI-Eli_Lilly_Phase_2',\n",
       " 'JFDI-Illumina_Phase_1',\n",
       " 'JFDI-Illumina_Phase_2',\n",
       " 'JFDI-NVS',\n",
       " 'JFDI-NVS_Phase_2',\n",
       " 'JFDI-Pfizer',\n",
       " 'JFDI-Pfizer_Phase_2',\n",
       " 'JFDI-PGDx',\n",
       " 'JFDI-PGDx_Phase_2',\n",
       " 'JFDI-Sysmex_Phase_1',\n",
       " 'JFDI-Sysmex_Phase_2',\n",
       " 'JFDI-ThermoFisher',\n",
       " 'JFDI-ThermoFisher_Phase_2',\n",
       " 'JFDI-UAMS1',\n",
       " 'JFDI-UAMS1_Phase_2',\n",
       " 'JFDI-USC',\n",
       " 'JFDI-USC_Phase_2',\n",
       " 'open-BPDC000117',\n",
       " 'open-BPDC000118',\n",
       " 'open-BPDC000119',\n",
       " 'open-BPDC000120',\n",
       " 'open-BPDC000121',\n",
       " 'open-BPDC000122',\n",
       " 'open-BPDC000123',\n",
       " 'open-BPDC000124',\n",
       " 'open-BPDC000125',\n",
       " 'open-BPDC000126',\n",
       " 'open-BPDC000127',\n",
       " 'open-BPDC000128',\n",
       " 'open-BPDC000129',\n",
       " 'open-BPDC000130',\n",
       " 'open-BPDC000131',\n",
       " 'open-BPDC000132',\n",
       " 'open-FNIH_P0001',\n",
       " 'open-GLASS_GeLB',\n",
       " 'open-MTDE',\n",
       " 'open-open_JFDI_Phase_2',\n",
       " 'training-JFDI_Phase_2',\n",
       " 'training-PCV']"
      ]
     },
     "execution_count": 3,
     "metadata": {},
     "output_type": "execute_result"
    }
   ],
   "source": [
    "# run my local working copy\n",
    "%run /Users/johnbrightanyaaibe/Documents/GitHub/cgmeyer/gen3sdk-python/expansion/expansion.py # Some additional functions in Gen3Expansion class\n",
    "exp = Gen3Expansion(api,auth,sub) # Initialize an instance, using its functions like exp.get_project_tsvs()\n",
    "\n",
    "exp.get_project_ids()\n",
    "\n",
    "mds = exp.get_mds(limit=9999)\n"
   ]
  },
  {
   "cell_type": "markdown",
   "id": "5b59d0a1",
   "metadata": {},
   "source": [
    "Theis portion of code sets up the the fields in the mds. Use the information given from the publication submitter to fill these fields:\n",
    "* Use the minimalFieldsmapping section of the DiscoveryConfig as a guide for what properties are needed: https://github.com/uc-cdis/cdis-manifest/blob/cf29feee9107ebf9335bd74073c9322ac603ea86/data.bloodpac.org/portal/gitops.json#L1183\n",
    "\n",
    "* Example\n"
   ]
  },
  {
   "cell_type": "code",
   "execution_count": null,
   "id": "81a5a4f9",
   "metadata": {},
   "outputs": [],
   "source": [
    "guid = 'BPDC000133'\n",
    "mds[guid] = {}\n",
    "mds[guid]['_guid_type'] = 'discovery_metadata'\n",
    "mds[guid]['gen3_discovery'] = {}\n",
    "mds[guid]['gen3_discovery']['_unique_id'] = guid\n",
    "mds[guid]['gen3_discovery']['commons'] = \"BloodPAC\"\n",
    "mds[guid]['gen3_discovery']['short_name'] = guid\n",
    "mds[guid]['gen3_discovery']['full_name'] = guid\n",
    "mds[guid]['gen3_discovery']['condition'] = \"Improved blood draw volume reliability and vacuum retention in plastic blood collection tubes- Eliminating glass blood collection tube breakage and related safety issues.\"\n",
    "mds[guid]['gen3_discovery']['abstract'] = \"SiO2 Medical Products, Inc. developed hybrid blood collection tubes (BCTs) that combine the breakage resistance of plastic and a shelf life approaching that of glass. These blended attributes provide improved BCT safety and reliability for patients and clinical workers. A shelf life of at least 2 y with less than 10% draw volume variation was demonstrated on evacuated hybrid BCTs, which is approximately 7 times longer than standard polyethylene terephthalate (PET) BCTs. This translates into more consistent and reliable blood draw volumes over a longer shelf life. The moisture vapor barrier of hybrid BCTs is 5 times lower than that of PET BCTs, which significantly reduces preservative evaporation over their shelf life. As a result, the risk of preservative gelation and alteration to the blood-to-preservative ratio mix is practically eliminated. Cyclic olefin polymer (COP) exhibits superior impact resistance to breakage because of its high ductility and impact strength and is not influenced by defects and flaws as is glass. Although COP has a mechanical toughness comparable with that of PET, it maintains this over a wider range of temperatures (-70 to 121 °C). As a result, COP can tolerate steam sterilization and cold storage temperatures without mechanical fatigue, deformation, or breakage. Lastly, extreme centrifugation of water-filled BCTs did not impose breakage of any kind.\"\n",
    "\n",
    "mds[guid]['gen3_discovery']['authors'] = \" Christopher M Weikart 1, Adam P Breeland 1, Matt S Wills 1, Martin E Baltazar-Lopez 1 \"\n",
    "\n",
    "mds[guid]['gen3_discovery']['journal'] = \" SLAS Technology\"\n",
    "mds[guid]['gen3_discovery']['title'] = \"Hybrid Blood Collection Tubes: Combining the Best Attributes of Glass and Plastic for Safety and Shelf life\"\n",
    "\n",
    "mds[guid]['gen3_discovery']['data_description'] = \"Hybrid blood tubes_SLAS pdf files\"\n",
    "mds[guid]['gen3_discovery']['author_affiliations'] = \"\"\"SiO2 Materials Science\"\"\"\n",
    "\n",
    "mds[guid]['gen3_discovery']['data_availability_date'] = guid\n",
    "mds[guid]['gen3_discovery']['doi'] = '10.1177/2472630320915842'\n",
    "mds[guid]['gen3_discovery']['pmid'] = guid\n",
    "mds[guid]['gen3_discovery']['publication_url'] = \"journals.sagepub.com/home/jla\"\n",
    "mds[guid]['gen3_discovery']['sponsors'] = \"\"\" SiO2 Materials Science\"\"\"\n",
    "mds[guid]['gen3_discovery']['study_codes'] = guid\n",
    "mds[guid]['gen3_discovery']['study_type'] = \"Case Study\"\n",
    "mds[guid]['gen3_discovery']['websites'] = guid\n",
    "\n",
    "\n",
    "mds[guid]['gen3_discovery']['auth_resource_path'] = '/programs/open'\n",
    "# add some tags\n",
    "mds[guid]['gen3_discovery']['tags'] = \"\"\n",
    "tags = []\n",
    "tag = {}\n",
    "tag['name'] = \"leukemia\"\n",
    "tag['category'] = 'Condition'\n",
    "tags.append(tag)\n",
    "\n",
    "mds[guid]['gen3_discovery']['tags'] = tags\n",
    "\n",
    "mds[guid]['gen3_discovery']['_publication_id'] = guid\n",
    "\n"
   ]
  },
  {
   "cell_type": "code",
   "execution_count": null,
   "id": "c9b8f98e",
   "metadata": {},
   "outputs": [],
   "source": []
  },
  {
   "cell_type": "code",
   "execution_count": null,
   "id": "289b9d0a",
   "metadata": {},
   "outputs": [],
   "source": [
    "m = {guid:mds[guid]}\n",
    "exp.submit_mds(m)\n",
    "exp.update_mds(m)\n",
    "exp.delete_mds(m)\n"
   ]
  }
 ],
 "metadata": {
  "kernelspec": {
   "display_name": "Python 3 (ipykernel)",
   "language": "python",
   "name": "python3"
  },
  "language_info": {
   "codemirror_mode": {
    "name": "ipython",
    "version": 3
   },
   "file_extension": ".py",
   "mimetype": "text/x-python",
   "name": "python",
   "nbconvert_exporter": "python",
   "pygments_lexer": "ipython3",
   "version": "3.9.12"
  }
 },
 "nbformat": 4,
 "nbformat_minor": 5
}
